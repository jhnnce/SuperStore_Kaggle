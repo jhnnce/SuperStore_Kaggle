{
 "cells": [
  {
   "attachments": {},
   "cell_type": "markdown",
   "metadata": {},
   "source": [
    "##### IMPORTACIÓN DEL DATASET"
   ]
  },
  {
   "cell_type": "code",
   "execution_count": 2,
   "metadata": {},
   "outputs": [],
   "source": [
    "import pandas as pd\n",
    "import numpy as np\n",
    "import matplotlib.pyplot as plt\n",
    "import seaborn as sns\n",
    "import datetime as dt\n",
    "\n",
    "from sklearn.svm import SVC\n",
    "from sklearn.preprocessing import MinMaxScaler\n",
    "from sklearn.model_selection import train_test_split\n",
    "from imblearn.combine import SMOTETomek\n",
    "from sklearn.model_selection import GridSearchCV\n",
    "from sklearn.metrics import accuracy_score\n",
    "from sklearn.metrics import classification_report\n",
    "from sklearn.metrics import confusion_matrix\n",
    "from sklearn.model_selection import cross_val_score\n",
    "from sklearn.feature_selection import RFE"
   ]
  },
  {
   "cell_type": "code",
   "execution_count": 3,
   "metadata": {},
   "outputs": [
    {
     "data": {
      "text/html": [
       "<div>\n",
       "<style scoped>\n",
       "    .dataframe tbody tr th:only-of-type {\n",
       "        vertical-align: middle;\n",
       "    }\n",
       "\n",
       "    .dataframe tbody tr th {\n",
       "        vertical-align: top;\n",
       "    }\n",
       "\n",
       "    .dataframe thead th {\n",
       "        text-align: right;\n",
       "    }\n",
       "</style>\n",
       "<table border=\"1\" class=\"dataframe\">\n",
       "  <thead>\n",
       "    <tr style=\"text-align: right;\">\n",
       "      <th></th>\n",
       "      <th>Id</th>\n",
       "      <th>Year_Birth</th>\n",
       "      <th>Education</th>\n",
       "      <th>Marital_Status</th>\n",
       "      <th>Income</th>\n",
       "      <th>Kidhome</th>\n",
       "      <th>Teenhome</th>\n",
       "      <th>Dt_Customer</th>\n",
       "      <th>Recency</th>\n",
       "      <th>MntWines</th>\n",
       "      <th>...</th>\n",
       "      <th>MntFishProducts</th>\n",
       "      <th>MntSweetProducts</th>\n",
       "      <th>MntGoldProds</th>\n",
       "      <th>NumDealsPurchases</th>\n",
       "      <th>NumWebPurchases</th>\n",
       "      <th>NumCatalogPurchases</th>\n",
       "      <th>NumStorePurchases</th>\n",
       "      <th>NumWebVisitsMonth</th>\n",
       "      <th>Response</th>\n",
       "      <th>Complain</th>\n",
       "    </tr>\n",
       "  </thead>\n",
       "  <tbody>\n",
       "    <tr>\n",
       "      <th>0</th>\n",
       "      <td>1826</td>\n",
       "      <td>1970</td>\n",
       "      <td>Graduation</td>\n",
       "      <td>Divorced</td>\n",
       "      <td>84835.0</td>\n",
       "      <td>0</td>\n",
       "      <td>0</td>\n",
       "      <td>6/16/2014</td>\n",
       "      <td>0</td>\n",
       "      <td>189</td>\n",
       "      <td>...</td>\n",
       "      <td>111</td>\n",
       "      <td>189</td>\n",
       "      <td>218</td>\n",
       "      <td>1</td>\n",
       "      <td>4</td>\n",
       "      <td>4</td>\n",
       "      <td>6</td>\n",
       "      <td>1</td>\n",
       "      <td>1</td>\n",
       "      <td>0</td>\n",
       "    </tr>\n",
       "    <tr>\n",
       "      <th>1</th>\n",
       "      <td>1</td>\n",
       "      <td>1961</td>\n",
       "      <td>Graduation</td>\n",
       "      <td>Single</td>\n",
       "      <td>57091.0</td>\n",
       "      <td>0</td>\n",
       "      <td>0</td>\n",
       "      <td>6/15/2014</td>\n",
       "      <td>0</td>\n",
       "      <td>464</td>\n",
       "      <td>...</td>\n",
       "      <td>7</td>\n",
       "      <td>0</td>\n",
       "      <td>37</td>\n",
       "      <td>1</td>\n",
       "      <td>7</td>\n",
       "      <td>3</td>\n",
       "      <td>7</td>\n",
       "      <td>5</td>\n",
       "      <td>1</td>\n",
       "      <td>0</td>\n",
       "    </tr>\n",
       "    <tr>\n",
       "      <th>2</th>\n",
       "      <td>10476</td>\n",
       "      <td>1958</td>\n",
       "      <td>Graduation</td>\n",
       "      <td>Married</td>\n",
       "      <td>67267.0</td>\n",
       "      <td>0</td>\n",
       "      <td>1</td>\n",
       "      <td>5/13/2014</td>\n",
       "      <td>0</td>\n",
       "      <td>134</td>\n",
       "      <td>...</td>\n",
       "      <td>15</td>\n",
       "      <td>2</td>\n",
       "      <td>30</td>\n",
       "      <td>1</td>\n",
       "      <td>3</td>\n",
       "      <td>2</td>\n",
       "      <td>5</td>\n",
       "      <td>2</td>\n",
       "      <td>0</td>\n",
       "      <td>0</td>\n",
       "    </tr>\n",
       "    <tr>\n",
       "      <th>3</th>\n",
       "      <td>1386</td>\n",
       "      <td>1967</td>\n",
       "      <td>Graduation</td>\n",
       "      <td>Together</td>\n",
       "      <td>32474.0</td>\n",
       "      <td>1</td>\n",
       "      <td>1</td>\n",
       "      <td>11/5/2014</td>\n",
       "      <td>0</td>\n",
       "      <td>10</td>\n",
       "      <td>...</td>\n",
       "      <td>0</td>\n",
       "      <td>0</td>\n",
       "      <td>0</td>\n",
       "      <td>1</td>\n",
       "      <td>1</td>\n",
       "      <td>0</td>\n",
       "      <td>2</td>\n",
       "      <td>7</td>\n",
       "      <td>0</td>\n",
       "      <td>0</td>\n",
       "    </tr>\n",
       "    <tr>\n",
       "      <th>4</th>\n",
       "      <td>5371</td>\n",
       "      <td>1989</td>\n",
       "      <td>Graduation</td>\n",
       "      <td>Single</td>\n",
       "      <td>21474.0</td>\n",
       "      <td>1</td>\n",
       "      <td>0</td>\n",
       "      <td>8/4/2014</td>\n",
       "      <td>0</td>\n",
       "      <td>6</td>\n",
       "      <td>...</td>\n",
       "      <td>11</td>\n",
       "      <td>0</td>\n",
       "      <td>34</td>\n",
       "      <td>2</td>\n",
       "      <td>3</td>\n",
       "      <td>1</td>\n",
       "      <td>2</td>\n",
       "      <td>7</td>\n",
       "      <td>1</td>\n",
       "      <td>0</td>\n",
       "    </tr>\n",
       "  </tbody>\n",
       "</table>\n",
       "<p>5 rows × 22 columns</p>\n",
       "</div>"
      ],
      "text/plain": [
       "      Id  Year_Birth   Education Marital_Status   Income  Kidhome  Teenhome  \\\n",
       "0   1826        1970  Graduation       Divorced  84835.0        0         0   \n",
       "1      1        1961  Graduation         Single  57091.0        0         0   \n",
       "2  10476        1958  Graduation        Married  67267.0        0         1   \n",
       "3   1386        1967  Graduation       Together  32474.0        1         1   \n",
       "4   5371        1989  Graduation         Single  21474.0        1         0   \n",
       "\n",
       "  Dt_Customer  Recency  MntWines  ...  MntFishProducts  MntSweetProducts  \\\n",
       "0   6/16/2014        0       189  ...              111               189   \n",
       "1   6/15/2014        0       464  ...                7                 0   \n",
       "2   5/13/2014        0       134  ...               15                 2   \n",
       "3   11/5/2014        0        10  ...                0                 0   \n",
       "4    8/4/2014        0         6  ...               11                 0   \n",
       "\n",
       "   MntGoldProds  NumDealsPurchases  NumWebPurchases  NumCatalogPurchases  \\\n",
       "0           218                  1                4                    4   \n",
       "1            37                  1                7                    3   \n",
       "2            30                  1                3                    2   \n",
       "3             0                  1                1                    0   \n",
       "4            34                  2                3                    1   \n",
       "\n",
       "   NumStorePurchases  NumWebVisitsMonth  Response  Complain  \n",
       "0                  6                  1         1         0  \n",
       "1                  7                  5         1         0  \n",
       "2                  5                  2         0         0  \n",
       "3                  2                  7         0         0  \n",
       "4                  2                  7         1         0  \n",
       "\n",
       "[5 rows x 22 columns]"
      ]
     },
     "execution_count": 3,
     "metadata": {},
     "output_type": "execute_result"
    }
   ],
   "source": [
    "df = pd.read_csv(\"D:\\\\Descargas\\\\archive (1)\\\\superstore_data.csv\")\n",
    "df.head()"
   ]
  },
  {
   "cell_type": "code",
   "execution_count": 4,
   "metadata": {},
   "outputs": [
    {
     "data": {
      "text/plain": [
       "(2240, 22)"
      ]
     },
     "execution_count": 4,
     "metadata": {},
     "output_type": "execute_result"
    }
   ],
   "source": [
    "df.shape"
   ]
  },
  {
   "cell_type": "code",
   "execution_count": 5,
   "metadata": {},
   "outputs": [
    {
     "name": "stdout",
     "output_type": "stream",
     "text": [
      "<class 'pandas.core.frame.DataFrame'>\n",
      "RangeIndex: 2240 entries, 0 to 2239\n",
      "Data columns (total 22 columns):\n",
      " #   Column               Non-Null Count  Dtype  \n",
      "---  ------               --------------  -----  \n",
      " 0   Id                   2240 non-null   int64  \n",
      " 1   Year_Birth           2240 non-null   int64  \n",
      " 2   Education            2240 non-null   object \n",
      " 3   Marital_Status       2240 non-null   object \n",
      " 4   Income               2216 non-null   float64\n",
      " 5   Kidhome              2240 non-null   int64  \n",
      " 6   Teenhome             2240 non-null   int64  \n",
      " 7   Dt_Customer          2240 non-null   object \n",
      " 8   Recency              2240 non-null   int64  \n",
      " 9   MntWines             2240 non-null   int64  \n",
      " 10  MntFruits            2240 non-null   int64  \n",
      " 11  MntMeatProducts      2240 non-null   int64  \n",
      " 12  MntFishProducts      2240 non-null   int64  \n",
      " 13  MntSweetProducts     2240 non-null   int64  \n",
      " 14  MntGoldProds         2240 non-null   int64  \n",
      " 15  NumDealsPurchases    2240 non-null   int64  \n",
      " 16  NumWebPurchases      2240 non-null   int64  \n",
      " 17  NumCatalogPurchases  2240 non-null   int64  \n",
      " 18  NumStorePurchases    2240 non-null   int64  \n",
      " 19  NumWebVisitsMonth    2240 non-null   int64  \n",
      " 20  Response             2240 non-null   int64  \n",
      " 21  Complain             2240 non-null   int64  \n",
      "dtypes: float64(1), int64(18), object(3)\n",
      "memory usage: 385.1+ KB\n"
     ]
    }
   ],
   "source": [
    "df.info()"
   ]
  },
  {
   "cell_type": "code",
   "execution_count": 6,
   "metadata": {},
   "outputs": [
    {
     "data": {
      "text/plain": [
       "Id                      0\n",
       "Year_Birth              0\n",
       "Education               0\n",
       "Marital_Status          0\n",
       "Income                 24\n",
       "Kidhome                 0\n",
       "Teenhome                0\n",
       "Dt_Customer             0\n",
       "Recency                 0\n",
       "MntWines                0\n",
       "MntFruits               0\n",
       "MntMeatProducts         0\n",
       "MntFishProducts         0\n",
       "MntSweetProducts        0\n",
       "MntGoldProds            0\n",
       "NumDealsPurchases       0\n",
       "NumWebPurchases         0\n",
       "NumCatalogPurchases     0\n",
       "NumStorePurchases       0\n",
       "NumWebVisitsMonth       0\n",
       "Response                0\n",
       "Complain                0\n",
       "dtype: int64"
      ]
     },
     "execution_count": 6,
     "metadata": {},
     "output_type": "execute_result"
    }
   ],
   "source": [
    "df.isnull().sum()"
   ]
  },
  {
   "cell_type": "code",
   "execution_count": 7,
   "metadata": {},
   "outputs": [],
   "source": [
    "df.Income = df.Income.fillna(df.Income.mean())"
   ]
  },
  {
   "cell_type": "code",
   "execution_count": 8,
   "metadata": {},
   "outputs": [
    {
     "data": {
      "text/plain": [
       "0"
      ]
     },
     "execution_count": 8,
     "metadata": {},
     "output_type": "execute_result"
    }
   ],
   "source": [
    "df.duplicated().sum()"
   ]
  },
  {
   "cell_type": "code",
   "execution_count": 9,
   "metadata": {},
   "outputs": [],
   "source": [
    "df[\"Age\"] = 2022 - df[\"Year_Birth\"]"
   ]
  },
  {
   "cell_type": "code",
   "execution_count": 10,
   "metadata": {},
   "outputs": [],
   "source": [
    "df[\"Dt_Customer\"] = pd.to_datetime(df[\"Dt_Customer\"])\n",
    "\n",
    "l_years = []\n",
    "for i in df[\"Dt_Customer\"]:\n",
    "  f = dt.datetime.now().date() - i.date()\n",
    "  l_years.append(f.days/365)\n",
    "df.insert(loc=23, column=\"Year_Dt\", value = l_years)"
   ]
  },
  {
   "cell_type": "code",
   "execution_count": 11,
   "metadata": {},
   "outputs": [],
   "source": [
    "df = df.drop([\"Id\", \"Year_Birth\", \"Dt_Customer\"], axis=1)"
   ]
  },
  {
   "attachments": {},
   "cell_type": "markdown",
   "metadata": {},
   "source": [
    "##### TRANSFORMACIÓN DE LAS VARIABLES DUMMY"
   ]
  },
  {
   "cell_type": "code",
   "execution_count": 12,
   "metadata": {},
   "outputs": [],
   "source": [
    "df_c_dummy = df.columns[df.dtypes == object]\n",
    "df_dummy = pd.get_dummies(data= df, prefix = df_c_dummy, drop_first = True)"
   ]
  },
  {
   "cell_type": "code",
   "execution_count": 13,
   "metadata": {},
   "outputs": [
    {
     "data": {
      "text/html": [
       "<div>\n",
       "<style scoped>\n",
       "    .dataframe tbody tr th:only-of-type {\n",
       "        vertical-align: middle;\n",
       "    }\n",
       "\n",
       "    .dataframe tbody tr th {\n",
       "        vertical-align: top;\n",
       "    }\n",
       "\n",
       "    .dataframe thead th {\n",
       "        text-align: right;\n",
       "    }\n",
       "</style>\n",
       "<table border=\"1\" class=\"dataframe\">\n",
       "  <thead>\n",
       "    <tr style=\"text-align: right;\">\n",
       "      <th></th>\n",
       "      <th>Income</th>\n",
       "      <th>Kidhome</th>\n",
       "      <th>Teenhome</th>\n",
       "      <th>Recency</th>\n",
       "      <th>MntWines</th>\n",
       "      <th>MntFruits</th>\n",
       "      <th>MntMeatProducts</th>\n",
       "      <th>MntFishProducts</th>\n",
       "      <th>MntSweetProducts</th>\n",
       "      <th>MntGoldProds</th>\n",
       "      <th>...</th>\n",
       "      <th>Education_Graduation</th>\n",
       "      <th>Education_Master</th>\n",
       "      <th>Education_PhD</th>\n",
       "      <th>Marital_Status_Alone</th>\n",
       "      <th>Marital_Status_Divorced</th>\n",
       "      <th>Marital_Status_Married</th>\n",
       "      <th>Marital_Status_Single</th>\n",
       "      <th>Marital_Status_Together</th>\n",
       "      <th>Marital_Status_Widow</th>\n",
       "      <th>Marital_Status_YOLO</th>\n",
       "    </tr>\n",
       "  </thead>\n",
       "  <tbody>\n",
       "    <tr>\n",
       "      <th>0</th>\n",
       "      <td>84835.0</td>\n",
       "      <td>0.0</td>\n",
       "      <td>0.0</td>\n",
       "      <td>0.0</td>\n",
       "      <td>189.0</td>\n",
       "      <td>104.0</td>\n",
       "      <td>379.0</td>\n",
       "      <td>111.0</td>\n",
       "      <td>189.0</td>\n",
       "      <td>218.0</td>\n",
       "      <td>...</td>\n",
       "      <td>1.0</td>\n",
       "      <td>0.0</td>\n",
       "      <td>0.0</td>\n",
       "      <td>0.0</td>\n",
       "      <td>1.0</td>\n",
       "      <td>0.0</td>\n",
       "      <td>0.0</td>\n",
       "      <td>0.0</td>\n",
       "      <td>0.0</td>\n",
       "      <td>0.0</td>\n",
       "    </tr>\n",
       "    <tr>\n",
       "      <th>1</th>\n",
       "      <td>57091.0</td>\n",
       "      <td>0.0</td>\n",
       "      <td>0.0</td>\n",
       "      <td>0.0</td>\n",
       "      <td>464.0</td>\n",
       "      <td>5.0</td>\n",
       "      <td>64.0</td>\n",
       "      <td>7.0</td>\n",
       "      <td>0.0</td>\n",
       "      <td>37.0</td>\n",
       "      <td>...</td>\n",
       "      <td>1.0</td>\n",
       "      <td>0.0</td>\n",
       "      <td>0.0</td>\n",
       "      <td>0.0</td>\n",
       "      <td>0.0</td>\n",
       "      <td>0.0</td>\n",
       "      <td>1.0</td>\n",
       "      <td>0.0</td>\n",
       "      <td>0.0</td>\n",
       "      <td>0.0</td>\n",
       "    </tr>\n",
       "    <tr>\n",
       "      <th>2</th>\n",
       "      <td>67267.0</td>\n",
       "      <td>0.0</td>\n",
       "      <td>1.0</td>\n",
       "      <td>0.0</td>\n",
       "      <td>134.0</td>\n",
       "      <td>11.0</td>\n",
       "      <td>59.0</td>\n",
       "      <td>15.0</td>\n",
       "      <td>2.0</td>\n",
       "      <td>30.0</td>\n",
       "      <td>...</td>\n",
       "      <td>1.0</td>\n",
       "      <td>0.0</td>\n",
       "      <td>0.0</td>\n",
       "      <td>0.0</td>\n",
       "      <td>0.0</td>\n",
       "      <td>1.0</td>\n",
       "      <td>0.0</td>\n",
       "      <td>0.0</td>\n",
       "      <td>0.0</td>\n",
       "      <td>0.0</td>\n",
       "    </tr>\n",
       "    <tr>\n",
       "      <th>3</th>\n",
       "      <td>32474.0</td>\n",
       "      <td>1.0</td>\n",
       "      <td>1.0</td>\n",
       "      <td>0.0</td>\n",
       "      <td>10.0</td>\n",
       "      <td>0.0</td>\n",
       "      <td>1.0</td>\n",
       "      <td>0.0</td>\n",
       "      <td>0.0</td>\n",
       "      <td>0.0</td>\n",
       "      <td>...</td>\n",
       "      <td>1.0</td>\n",
       "      <td>0.0</td>\n",
       "      <td>0.0</td>\n",
       "      <td>0.0</td>\n",
       "      <td>0.0</td>\n",
       "      <td>0.0</td>\n",
       "      <td>0.0</td>\n",
       "      <td>1.0</td>\n",
       "      <td>0.0</td>\n",
       "      <td>0.0</td>\n",
       "    </tr>\n",
       "    <tr>\n",
       "      <th>4</th>\n",
       "      <td>21474.0</td>\n",
       "      <td>1.0</td>\n",
       "      <td>0.0</td>\n",
       "      <td>0.0</td>\n",
       "      <td>6.0</td>\n",
       "      <td>16.0</td>\n",
       "      <td>24.0</td>\n",
       "      <td>11.0</td>\n",
       "      <td>0.0</td>\n",
       "      <td>34.0</td>\n",
       "      <td>...</td>\n",
       "      <td>1.0</td>\n",
       "      <td>0.0</td>\n",
       "      <td>0.0</td>\n",
       "      <td>0.0</td>\n",
       "      <td>0.0</td>\n",
       "      <td>0.0</td>\n",
       "      <td>1.0</td>\n",
       "      <td>0.0</td>\n",
       "      <td>0.0</td>\n",
       "      <td>0.0</td>\n",
       "    </tr>\n",
       "  </tbody>\n",
       "</table>\n",
       "<p>5 rows × 30 columns</p>\n",
       "</div>"
      ],
      "text/plain": [
       "    Income  Kidhome  Teenhome  Recency  MntWines  MntFruits  MntMeatProducts  \\\n",
       "0  84835.0      0.0       0.0      0.0     189.0      104.0            379.0   \n",
       "1  57091.0      0.0       0.0      0.0     464.0        5.0             64.0   \n",
       "2  67267.0      0.0       1.0      0.0     134.0       11.0             59.0   \n",
       "3  32474.0      1.0       1.0      0.0      10.0        0.0              1.0   \n",
       "4  21474.0      1.0       0.0      0.0       6.0       16.0             24.0   \n",
       "\n",
       "   MntFishProducts  MntSweetProducts  MntGoldProds  ...  Education_Graduation  \\\n",
       "0            111.0             189.0         218.0  ...                   1.0   \n",
       "1              7.0               0.0          37.0  ...                   1.0   \n",
       "2             15.0               2.0          30.0  ...                   1.0   \n",
       "3              0.0               0.0           0.0  ...                   1.0   \n",
       "4             11.0               0.0          34.0  ...                   1.0   \n",
       "\n",
       "   Education_Master  Education_PhD  Marital_Status_Alone  \\\n",
       "0               0.0            0.0                   0.0   \n",
       "1               0.0            0.0                   0.0   \n",
       "2               0.0            0.0                   0.0   \n",
       "3               0.0            0.0                   0.0   \n",
       "4               0.0            0.0                   0.0   \n",
       "\n",
       "   Marital_Status_Divorced  Marital_Status_Married  Marital_Status_Single  \\\n",
       "0                      1.0                     0.0                    0.0   \n",
       "1                      0.0                     0.0                    1.0   \n",
       "2                      0.0                     1.0                    0.0   \n",
       "3                      0.0                     0.0                    0.0   \n",
       "4                      0.0                     0.0                    1.0   \n",
       "\n",
       "   Marital_Status_Together  Marital_Status_Widow  Marital_Status_YOLO  \n",
       "0                      0.0                   0.0                  0.0  \n",
       "1                      0.0                   0.0                  0.0  \n",
       "2                      0.0                   0.0                  0.0  \n",
       "3                      1.0                   0.0                  0.0  \n",
       "4                      0.0                   0.0                  0.0  \n",
       "\n",
       "[5 rows x 30 columns]"
      ]
     },
     "execution_count": 13,
     "metadata": {},
     "output_type": "execute_result"
    }
   ],
   "source": [
    "# Para acelerar los procesos computacionales convertimos todos los elementos al tipo de archivo float\n",
    "df_dummy = df_dummy.astype(float)\n",
    "df_dummy.head()"
   ]
  },
  {
   "attachments": {},
   "cell_type": "markdown",
   "metadata": {},
   "source": [
    "##### ESCALADO DE LAS VARIABLES\n"
   ]
  },
  {
   "cell_type": "code",
   "execution_count": 14,
   "metadata": {},
   "outputs": [],
   "source": [
    "X = df_dummy.drop(\"Response\", axis=1)\n",
    "y = df[\"Response\"].values.reshape(-1,1)"
   ]
  },
  {
   "cell_type": "code",
   "execution_count": 15,
   "metadata": {},
   "outputs": [],
   "source": [
    "scaler_X = MinMaxScaler()\n",
    "scaler_y = MinMaxScaler()\n",
    "\n",
    "X = pd.DataFrame(scaler_X.fit_transform(X), columns=X.columns)\n",
    "y = scaler_y.fit_transform(y)  "
   ]
  },
  {
   "attachments": {},
   "cell_type": "markdown",
   "metadata": {},
   "source": [
    "##### SPLIT DE LAS VARIABLES"
   ]
  },
  {
   "cell_type": "code",
   "execution_count": 16,
   "metadata": {},
   "outputs": [],
   "source": [
    "X_train, X_test, y_train, y_test = train_test_split(X, y, test_size=0.2, random_state=100)"
   ]
  },
  {
   "attachments": {},
   "cell_type": "markdown",
   "metadata": {},
   "source": [
    "##### BALANCEO DE LAS CLASES\n",
    "\n",
    "Si una clase es dominante en cantidad respecto al otro, puede ocacionar cesgo, para evitar eso balanceamos los datos."
   ]
  },
  {
   "cell_type": "code",
   "execution_count": 17,
   "metadata": {},
   "outputs": [
    {
     "data": {
      "text/plain": [
       "0.0    1906\n",
       "1.0     334\n",
       "Name: Response, dtype: int64"
      ]
     },
     "execution_count": 17,
     "metadata": {},
     "output_type": "execute_result"
    }
   ],
   "source": [
    "df_dummy.Response.value_counts()"
   ]
  },
  {
   "cell_type": "code",
   "execution_count": 18,
   "metadata": {},
   "outputs": [
    {
     "data": {
      "image/png": "[encoded data removed]",
      "text/plain": [
       "<Figure size 640x480 with 1 Axes>"
      ]
     },
     "metadata": {},
     "output_type": "display_data"
    }
   ],
   "source": [
    "plt.bar(x=df.Response.astype(str).unique(), height = df.Response.value_counts(), color = [\"y\", \"g\"]);\n",
    "plt.title(\"Proporción de las Clases\")\n",
    "plt.xlabel(\"CLASES\")\n",
    "plt.ylabel(\"CANTIDAD\")\n",
    "plt.show()"
   ]
  },
  {
   "cell_type": "code",
   "execution_count": 19,
   "metadata": {},
   "outputs": [],
   "source": [
    "smote = SMOTETomek(random_state=100)\n",
    "X_train_sm, y_train_sm = smote.fit_resample(X_train, y_train)"
   ]
  },
  {
   "cell_type": "code",
   "execution_count": 20,
   "metadata": {},
   "outputs": [
    {
     "data": {
      "image/png": "[encoded data removed]",
      "text/plain": [
       "<Figure size 640x480 with 1 Axes>"
      ]
     },
     "metadata": {},
     "output_type": "display_data"
    }
   ],
   "source": [
    "y_df = pd.DataFrame(y_train_sm)\n",
    "\n",
    "plt.bar(x=y_df[0].astype(str).unique(), height = y_df.value_counts(), color = [\"y\", \"g\"]);\n",
    "plt.title(\"Proporción de las Clases\")\n",
    "plt.xlabel(\"CLASES\")\n",
    "plt.ylabel(\"CANTIDAD\")\n",
    "plt.show()"
   ]
  },
  {
   "attachments": {},
   "cell_type": "markdown",
   "metadata": {},
   "source": [
    "##### SVC "
   ]
  },
  {
   "cell_type": "code",
   "execution_count": 140,
   "metadata": {},
   "outputs": [],
   "source": [
    "svc = SVC()\n",
    "parameters = [{'kernel' : ['rbf'],\n",
    "            'C' : [1,10,100,1000],\n",
    "            'gamma' : [0.1,0.5,0.01,0.001]},\n",
    "            {'kernel' : ['poly'],\n",
    "             'C' : [1,10,100,1000],\n",
    "             'gamma' : [0.1,0.5,0.01,0.001],\n",
    "             'degree' : [1,2,3]\n",
    "             }]\n",
    "\n",
    "grid_search = GridSearchCV(estimator = svc,\n",
    "                            param_grid = parameters,\n",
    "                            scoring = \"accuracy\",\n",
    "                            cv = 10,\n",
    "                            n_jobs = -1)\n",
    "\n",
    "grid_search = grid_search.fit(X_train_sm, y_train_sm.ravel())"
   ]
  },
  {
   "cell_type": "code",
   "execution_count": 141,
   "metadata": {},
   "outputs": [
    {
     "name": "stdout",
     "output_type": "stream",
     "text": [
      "best_accuracy:  0.9439020707506472\n",
      "best_parameters:  {'C': 100, 'gamma': 0.5, 'kernel': 'rbf'}\n"
     ]
    }
   ],
   "source": [
    "best_accuracy = grid_search.best_score_\n",
    "print(\"best_accuracy: \", best_accuracy)\n",
    "best_parameters = grid_search.best_params_\n",
    "print(\"best_parameters: \", best_parameters)"
   ]
  },
  {
   "attachments": {},
   "cell_type": "markdown",
   "metadata": {},
   "source": [
    "##### MEJORAMOS LA PRECISIÓN DE LOS PARAMETROS"
   ]
  },
  {
   "cell_type": "code",
   "execution_count": 153,
   "metadata": {},
   "outputs": [],
   "source": [
    "svc = SVC()\n",
    "parameters = [{'kernel' : ['rbf'],\n",
    "            'C' : [70,80,90],\n",
    "            'gamma' : [0.1,0.2,0.3,0.4,0.5]},\n",
    "            ]\n",
    "\n",
    "grid_search = GridSearchCV(estimator = svc,\n",
    "                            param_grid = parameters,\n",
    "                            scoring = \"accuracy\",\n",
    "                            cv = 10,\n",
    "                            n_jobs = -1)\n",
    "\n",
    "grid_search = grid_search.fit(X_train_sm, y_train_sm.ravel())"
   ]
  },
  {
   "cell_type": "code",
   "execution_count": 154,
   "metadata": {},
   "outputs": [
    {
     "name": "stdout",
     "output_type": "stream",
     "text": [
      "best_accuracy:  0.9432463330457292\n",
      "best_parameters:  {'C': 90, 'gamma': 0.5, 'kernel': 'rbf'}\n"
     ]
    }
   ],
   "source": [
    "best_accuracy = grid_search.best_score_\n",
    "print(\"best_accuracy: \", best_accuracy)\n",
    "best_parameters = grid_search.best_params_\n",
    "print(\"best_parameters: \", best_parameters)"
   ]
  },
  {
   "attachments": {},
   "cell_type": "markdown",
   "metadata": {},
   "source": [
    "##### PREDICCIÓN"
   ]
  },
  {
   "cell_type": "code",
   "execution_count": 155,
   "metadata": {},
   "outputs": [],
   "source": [
    "rbf = SVC(C= 90, gamma=0.5, kernel= 'rbf').fit(X_train_sm, y_train_sm)\n",
    "y_train_pred = rbf.predict(X_train_sm)\n",
    "y_test_pred = rbf.predict(X_test)\n"
   ]
  },
  {
   "cell_type": "code",
   "execution_count": 156,
   "metadata": {},
   "outputs": [
    {
     "name": "stdout",
     "output_type": "stream",
     "text": [
      "Accuracy: 82.81 %\n"
     ]
    }
   ],
   "source": [
    "print(\"Accuracy: {:.2f} %\".format(accuracy_score(y_test, y_test_pred)*100))"
   ]
  },
  {
   "cell_type": "code",
   "execution_count": 157,
   "metadata": {},
   "outputs": [
    {
     "name": "stdout",
     "output_type": "stream",
     "text": [
      "Validación Cruzada: 94.32 %\n"
     ]
    }
   ],
   "source": [
    "accuracies = cross_val_score(estimator = rbf, X = X_train_sm, y = y_train_sm, cv = 10)\n",
    "print(\"Validación Cruzada: {:.2f} %\".format(accuracies.mean()*100))"
   ]
  },
  {
   "cell_type": "code",
   "execution_count": 158,
   "metadata": {},
   "outputs": [
    {
     "name": "stdout",
     "output_type": "stream",
     "text": [
      "Metrics:\n",
      "               precision    recall  f1-score   support\n",
      "\n",
      "         0.0       0.90      0.89      0.90       378\n",
      "         1.0       0.45      0.47      0.46        70\n",
      "\n",
      "    accuracy                           0.83       448\n",
      "   macro avg       0.68      0.68      0.68       448\n",
      "weighted avg       0.83      0.83      0.83       448\n",
      "\n"
     ]
    }
   ],
   "source": [
    "print(\"Metrics:\\n {}\".format(classification_report(y_test, y_test_pred)))"
   ]
  },
  {
   "cell_type": "code",
   "execution_count": 159,
   "metadata": {},
   "outputs": [
    {
     "data": {
      "text/plain": [
       "<sklearn.metrics._plot.confusion_matrix.ConfusionMatrixDisplay at 0x2145a8bc730>"
      ]
     },
     "execution_count": 159,
     "metadata": {},
     "output_type": "execute_result"
    },
    {
     "data": {
      "image/png": "[encoded data removed]",
      "text/plain": [
       "<Figure size 640x480 with 2 Axes>"
      ]
     },
     "metadata": {},
     "output_type": "display_data"
    }
   ],
   "source": [
    "from sklearn.metrics import ConfusionMatrixDisplay\n",
    "\n",
    "ConfusionMatrixDisplay.from_predictions(y_test, y_test_pred)"
   ]
  },
  {
   "attachments": {},
   "cell_type": "markdown",
   "metadata": {},
   "source": [
    "##### AUN PODEMOS MEJORAR UN POCO EL MODELO"
   ]
  },
  {
   "attachments": {},
   "cell_type": "markdown",
   "metadata": {},
   "source": [
    "SELECCION DE VARIABLES\n",
    "\n",
    "Seleccionamos las variables mas significativas para el modelo."
   ]
  },
  {
   "cell_type": "code",
   "execution_count": 160,
   "metadata": {},
   "outputs": [
    {
     "name": "stdout",
     "output_type": "stream",
     "text": [
      "[False  True  True  True  True False  True  True False  True  True  True\n",
      "  True  True  True False False  True  True False False  True False False\n",
      "  True False  True False False]\n",
      "[ 5  1  1  1  1 13  1  1  9  1  1  1  1  1  1  7  2  1  1  4  3  1  8 12\n",
      "  1 10  1 11  6]\n"
     ]
    }
   ],
   "source": [
    "from sklearn.linear_model import LogisticRegression\n",
    "estimator = LogisticRegression()\n",
    "selector = RFE(estimator=estimator, n_features_to_select = 17, step=1)\n",
    "selector.fit(X_train_sm, y_train_sm.ravel())\n",
    "\n",
    "print(selector.support_)\n",
    "print(selector.ranking_)\n",
    "best_variables = selector.support_"
   ]
  },
  {
   "cell_type": "code",
   "execution_count": 161,
   "metadata": {},
   "outputs": [],
   "source": [
    "svc = SVC()\n",
    "parameters = [{'kernel' : ['rbf'],\n",
    "            'C' : [1,10,100,1000],\n",
    "            'gamma' : [0.1,0.5,0.01,0.001]},\n",
    "            {'kernel' : ['poly'],\n",
    "             'C' : [1,10,100,1000],\n",
    "             'gamma' : [0.1,0.5,0.01,0.001],\n",
    "             'degree' : [1,2,3]\n",
    "             }]\n",
    "\n",
    "grid_search = GridSearchCV(estimator = svc,\n",
    "                            param_grid = parameters,\n",
    "                            scoring = \"accuracy\",\n",
    "                            cv = 10,\n",
    "                            n_jobs = -1)\n",
    "\n",
    "grid_search = grid_search.fit(X_train_sm.iloc[:, best_variables], y_train_sm.ravel())"
   ]
  },
  {
   "cell_type": "code",
   "execution_count": 162,
   "metadata": {},
   "outputs": [
    {
     "name": "stdout",
     "output_type": "stream",
     "text": [
      "best_accuracy:  0.927172131147541\n",
      "best_parameters:  {'C': 1000, 'gamma': 0.5, 'kernel': 'rbf'}\n"
     ]
    }
   ],
   "source": [
    "best_accuracy = grid_search.best_score_\n",
    "print(\"best_accuracy: \", best_accuracy)\n",
    "best_parameters = grid_search.best_params_\n",
    "print(\"best_parameters: \", best_parameters)"
   ]
  },
  {
   "attachments": {},
   "cell_type": "markdown",
   "metadata": {},
   "source": [
    "##### MEJORAMOS LA PRECISIÓN DE LOS PARAMETROS"
   ]
  },
  {
   "cell_type": "code",
   "execution_count": 45,
   "metadata": {},
   "outputs": [],
   "source": [
    "svc = SVC()\n",
    "parameters = [{'kernel' : ['rbf'],\n",
    "            'C' : [70,80,90],\n",
    "            'gamma' : [0.1,0.2,0.3,0.4,0.5]},\n",
    "            ]\n",
    "\n",
    "grid_search = GridSearchCV(estimator = svc,\n",
    "                            param_grid = parameters,\n",
    "                            scoring = \"accuracy\",\n",
    "                            cv = 10,\n",
    "                            n_jobs = -1)\n",
    "\n",
    "grid_search = grid_search.fit(X_train_sm.iloc[:, best_variables], y_train_sm.ravel())"
   ]
  },
  {
   "cell_type": "code",
   "execution_count": 46,
   "metadata": {},
   "outputs": [
    {
     "name": "stdout",
     "output_type": "stream",
     "text": [
      "best_accuracy:  0.9360310612597067\n",
      "best_parameters:  {'C': 80, 'gamma': 0.5, 'kernel': 'rbf'}\n"
     ]
    }
   ],
   "source": [
    "best_accuracy = grid_search.best_score_\n",
    "print(\"best_accuracy: \", best_accuracy)\n",
    "best_parameters = grid_search.best_params_\n",
    "print(\"best_parameters: \", best_parameters)"
   ]
  },
  {
   "attachments": {},
   "cell_type": "markdown",
   "metadata": {},
   "source": [
    "##### PREDICCIÓN"
   ]
  },
  {
   "cell_type": "code",
   "execution_count": 163,
   "metadata": {},
   "outputs": [],
   "source": [
    "rbf = SVC(C= 1000, gamma=0.5, kernel= 'rbf').fit(X_train_sm.iloc[:, best_variables], y_train_sm)\n",
    "y_train_pred = rbf.predict(X_train_sm.iloc[:, best_variables])\n",
    "y_test_pred = rbf.predict(X_test.iloc[:, best_variables])\n"
   ]
  },
  {
   "cell_type": "code",
   "execution_count": 164,
   "metadata": {},
   "outputs": [
    {
     "name": "stdout",
     "output_type": "stream",
     "text": [
      "Accuracy: 84.82 %\n"
     ]
    }
   ],
   "source": [
    "print(\"Accuracy: {:.2f} %\".format(accuracy_score(y_test, y_test_pred)*100))"
   ]
  },
  {
   "cell_type": "code",
   "execution_count": 165,
   "metadata": {},
   "outputs": [
    {
     "name": "stdout",
     "output_type": "stream",
     "text": [
      "Validación Cruzada: 92.72 %\n"
     ]
    }
   ],
   "source": [
    "accuracies = cross_val_score(estimator = rbf, X = X_train_sm.iloc[:, best_variables], y = y_train_sm, cv = 10)\n",
    "print(\"Validación Cruzada: {:.2f} %\".format(accuracies.mean()*100))"
   ]
  },
  {
   "cell_type": "code",
   "execution_count": 166,
   "metadata": {},
   "outputs": [
    {
     "name": "stdout",
     "output_type": "stream",
     "text": [
      "Metrics:\n",
      "               precision    recall  f1-score   support\n",
      "\n",
      "         0.0       0.92      0.90      0.91       378\n",
      "         1.0       0.51      0.59      0.55        70\n",
      "\n",
      "    accuracy                           0.85       448\n",
      "   macro avg       0.72      0.74      0.73       448\n",
      "weighted avg       0.86      0.85      0.85       448\n",
      "\n"
     ]
    }
   ],
   "source": [
    "print(\"Metrics:\\n {}\".format(classification_report(y_test, y_test_pred)))"
   ]
  },
  {
   "cell_type": "code",
   "execution_count": 168,
   "metadata": {},
   "outputs": [
    {
     "data": {
      "text/plain": [
       "<sklearn.metrics._plot.confusion_matrix.ConfusionMatrixDisplay at 0x2145a897be0>"
      ]
     },
     "execution_count": 168,
     "metadata": {},
     "output_type": "execute_result"
    },
    {
     "data": {
      "image/png": "[encoded data removed]",
      "text/plain": [
       "<Figure size 640x480 with 2 Axes>"
      ]
     },
     "metadata": {},
     "output_type": "display_data"
    }
   ],
   "source": [
    "from sklearn.metrics import ConfusionMatrixDisplay\n",
    "\n",
    "ConfusionMatrixDisplay.from_predictions(y_test, y_test_pred)"
   ]
  },
  {
   "cell_type": "code",
   "execution_count": null,
   "metadata": {},
   "outputs": [],
   "source": []
  }
 ],
 "metadata": {
  "kernelspec": {
   "display_name": "Python 3",
   "language": "python",
   "name": "python3"
  },
  "language_info": {
   "codemirror_mode": {
    "name": "ipython",
    "version": 3
   },
   "file_extension": ".py",
   "mimetype": "text/x-python",
   "name": "python",
   "nbconvert_exporter": "python",
   "pygments_lexer": "ipython3",
   "version": "3.10.9"
  },
  "orig_nbformat": 4,
  "vscode": {
   "interpreter": {
    "hash": "61fa460c0e73cbc6bed647a5ba3bc36d56966069e553e3eb26f3bd2fa862d878"
   }
  }
 },
 "nbformat": 4,
 "nbformat_minor": 2
}
